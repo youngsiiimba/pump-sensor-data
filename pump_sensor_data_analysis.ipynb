{
  "nbformat": 4,
  "nbformat_minor": 0,
  "metadata": {
    "colab": {
      "name": "pump-sensor-data-analysis.ipynb",
      "provenance": [],
      "authorship_tag": "ABX9TyOdYGtNFAxkmMJJSItd1znM",
      "include_colab_link": true
    },
    "kernelspec": {
      "name": "python3",
      "display_name": "Python 3"
    },
    "language_info": {
      "name": "python"
    }
  },
  "cells": [
    {
      "cell_type": "markdown",
      "metadata": {
        "id": "view-in-github",
        "colab_type": "text"
      },
      "source": [
        "<a href=\"https://colab.research.google.com/github/youngsiiimba/pump-sensor-data/blob/main/pump_sensor_data_analysis.ipynb\" target=\"_parent\"><img src=\"https://colab.research.google.com/assets/colab-badge.svg\" alt=\"Open In Colab\"/></a>"
      ]
    },
    {
      "cell_type": "code",
      "execution_count": 1,
      "metadata": {
        "id": "m5L0s-sI8t7s"
      },
      "outputs": [],
      "source": [
        "import numpy as np\n",
        "import pandas as pd\n",
        "import seaborn as sns\n",
        "from matplotlib import pyplot as plt"
      ]
    },
    {
      "cell_type": "markdown",
      "source": [
        "##Data Import"
      ],
      "metadata": {
        "id": "l70XPMlh-f5q"
      }
    },
    {
      "cell_type": "code",
      "execution_count": 2,
      "metadata": {
        "colab": {
          "base_uri": "https://localhost:8080/"
        },
        "id": "4cjIT3PI8pB_",
        "outputId": "c5af321e-f952-4f38-c33b-23bed18e97cf"
      },
      "outputs": [
        {
          "output_type": "stream",
          "name": "stdout",
          "text": [
            "Cloning into 'pump-sensor-data'...\n",
            "remote: Enumerating objects: 3, done.\u001b[K\n",
            "remote: Counting objects: 100% (3/3), done.\u001b[K\n",
            "remote: Compressing objects: 100% (3/3), done.\u001b[K\n",
            "remote: Total 3 (delta 0), reused 3 (delta 0), pack-reused 0\u001b[K\n",
            "Unpacking objects: 100% (3/3), done.\n"
          ]
        }
      ],
      "source": [
        "!git clone https://github.com/youngsiiimba/pump-sensor-data.git"
      ]
    },
    {
      "cell_type": "code",
      "source": [
        "!unzip /content/pump-sensor-data/pump_sensor_data_zipped.zip"
      ],
      "metadata": {
        "colab": {
          "base_uri": "https://localhost:8080/"
        },
        "id": "lPtx_fxc-6wr",
        "outputId": "3569e07c-3477-4208-a79e-1ad3fc65b043"
      },
      "execution_count": 3,
      "outputs": [
        {
          "output_type": "stream",
          "name": "stdout",
          "text": [
            "Archive:  /content/pump-sensor-data/pump_sensor_data_zipped.zip\n",
            "  inflating: sensor.csv              \n"
          ]
        }
      ]
    },
    {
      "cell_type": "code",
      "source": [
        "df = pd.read_csv('/content/sensor.csv')\n",
        "df.info()"
      ],
      "metadata": {
        "colab": {
          "base_uri": "https://localhost:8080/"
        },
        "id": "sBHP7lpp_i7r",
        "outputId": "6c8612e4-a67c-43d1-e118-5443115c31b5"
      },
      "execution_count": 4,
      "outputs": [
        {
          "output_type": "stream",
          "name": "stdout",
          "text": [
            "<class 'pandas.core.frame.DataFrame'>\n",
            "RangeIndex: 220320 entries, 0 to 220319\n",
            "Data columns (total 55 columns):\n",
            " #   Column          Non-Null Count   Dtype  \n",
            "---  ------          --------------   -----  \n",
            " 0   Unnamed: 0      220320 non-null  int64  \n",
            " 1   timestamp       220320 non-null  object \n",
            " 2   sensor_00       210112 non-null  float64\n",
            " 3   sensor_01       219951 non-null  float64\n",
            " 4   sensor_02       220301 non-null  float64\n",
            " 5   sensor_03       220301 non-null  float64\n",
            " 6   sensor_04       220301 non-null  float64\n",
            " 7   sensor_05       220301 non-null  float64\n",
            " 8   sensor_06       215522 non-null  float64\n",
            " 9   sensor_07       214869 non-null  float64\n",
            " 10  sensor_08       215213 non-null  float64\n",
            " 11  sensor_09       215725 non-null  float64\n",
            " 12  sensor_10       220301 non-null  float64\n",
            " 13  sensor_11       220301 non-null  float64\n",
            " 14  sensor_12       220301 non-null  float64\n",
            " 15  sensor_13       220301 non-null  float64\n",
            " 16  sensor_14       220299 non-null  float64\n",
            " 17  sensor_15       0 non-null       float64\n",
            " 18  sensor_16       220289 non-null  float64\n",
            " 19  sensor_17       220274 non-null  float64\n",
            " 20  sensor_18       220274 non-null  float64\n",
            " 21  sensor_19       220304 non-null  float64\n",
            " 22  sensor_20       220304 non-null  float64\n",
            " 23  sensor_21       220304 non-null  float64\n",
            " 24  sensor_22       220279 non-null  float64\n",
            " 25  sensor_23       220304 non-null  float64\n",
            " 26  sensor_24       220304 non-null  float64\n",
            " 27  sensor_25       220284 non-null  float64\n",
            " 28  sensor_26       220300 non-null  float64\n",
            " 29  sensor_27       220304 non-null  float64\n",
            " 30  sensor_28       220304 non-null  float64\n",
            " 31  sensor_29       220248 non-null  float64\n",
            " 32  sensor_30       220059 non-null  float64\n",
            " 33  sensor_31       220304 non-null  float64\n",
            " 34  sensor_32       220252 non-null  float64\n",
            " 35  sensor_33       220304 non-null  float64\n",
            " 36  sensor_34       220304 non-null  float64\n",
            " 37  sensor_35       220304 non-null  float64\n",
            " 38  sensor_36       220304 non-null  float64\n",
            " 39  sensor_37       220304 non-null  float64\n",
            " 40  sensor_38       220293 non-null  float64\n",
            " 41  sensor_39       220293 non-null  float64\n",
            " 42  sensor_40       220293 non-null  float64\n",
            " 43  sensor_41       220293 non-null  float64\n",
            " 44  sensor_42       220293 non-null  float64\n",
            " 45  sensor_43       220293 non-null  float64\n",
            " 46  sensor_44       220293 non-null  float64\n",
            " 47  sensor_45       220293 non-null  float64\n",
            " 48  sensor_46       220293 non-null  float64\n",
            " 49  sensor_47       220293 non-null  float64\n",
            " 50  sensor_48       220293 non-null  float64\n",
            " 51  sensor_49       220293 non-null  float64\n",
            " 52  sensor_50       143303 non-null  float64\n",
            " 53  sensor_51       204937 non-null  float64\n",
            " 54  machine_status  220320 non-null  object \n",
            "dtypes: float64(52), int64(1), object(2)\n",
            "memory usage: 92.5+ MB\n"
          ]
        }
      ]
    },
    {
      "cell_type": "code",
      "source": [
        "df.head(10)"
      ],
      "metadata": {
        "id": "75lfKmsZUj1e",
        "colab": {
          "base_uri": "https://localhost:8080/",
          "height": 821
        },
        "outputId": "0a0625ee-f4f1-4207-eed3-223dbe6d8ae4"
      },
      "execution_count": 5,
      "outputs": [
        {
          "output_type": "execute_result",
          "data": {
            "text/plain": [
              "   Unnamed: 0            timestamp  sensor_00  sensor_01  sensor_02  \\\n",
              "0           0  2018-04-01 00:00:00   2.465394   47.09201    53.2118   \n",
              "1           1  2018-04-01 00:01:00   2.465394   47.09201    53.2118   \n",
              "2           2  2018-04-01 00:02:00   2.444734   47.35243    53.2118   \n",
              "3           3  2018-04-01 00:03:00   2.460474   47.09201    53.1684   \n",
              "4           4  2018-04-01 00:04:00   2.445718   47.13541    53.2118   \n",
              "5           5  2018-04-01 00:05:00   2.453588   47.09201    53.1684   \n",
              "6           6  2018-04-01 00:06:00   2.455556   47.04861    53.1684   \n",
              "7           7  2018-04-01 00:07:00   2.449653   47.13541    53.1684   \n",
              "8           8  2018-04-01 00:08:00   2.463426   47.09201    53.1684   \n",
              "9           9  2018-04-01 00:09:00   2.445718   47.17882    53.1684   \n",
              "\n",
              "   sensor_03  sensor_04  sensor_05  sensor_06  sensor_07  ...  sensor_43  \\\n",
              "0  46.310760   634.3750   76.45975   13.41146   16.13136  ...   41.92708   \n",
              "1  46.310760   634.3750   76.45975   13.41146   16.13136  ...   41.92708   \n",
              "2  46.397570   638.8889   73.54598   13.32465   16.03733  ...   41.66666   \n",
              "3  46.397568   628.1250   76.98898   13.31742   16.24711  ...   40.88541   \n",
              "4  46.397568   636.4583   76.58897   13.35359   16.21094  ...   41.40625   \n",
              "5  46.397568   637.6157   78.18568   13.41146   16.16753  ...   42.70833   \n",
              "6  46.397568   633.3333   75.81614   13.43316   16.13136  ...   43.22916   \n",
              "7  46.397568   630.6713   75.77331   13.25231   16.12413  ...   42.96875   \n",
              "8  46.397568   631.9444   74.58916   13.28848   16.13136  ...   42.18750   \n",
              "9  46.397568   641.7823   74.57428   13.38252   16.24711  ...   41.66666   \n",
              "\n",
              "   sensor_44  sensor_45  sensor_46  sensor_47  sensor_48  sensor_49  \\\n",
              "0  39.641200   65.68287   50.92593  38.194440   157.9861   67.70834   \n",
              "1  39.641200   65.68287   50.92593  38.194440   157.9861   67.70834   \n",
              "2  39.351852   65.39352   51.21528  38.194443   155.9606   67.12963   \n",
              "3  39.062500   64.81481   51.21528  38.194440   155.9606   66.84028   \n",
              "4  38.773150   65.10416   51.79398  38.773150   158.2755   66.55093   \n",
              "5  38.773150   63.65741   51.79398  38.773150   164.6412   66.55093   \n",
              "6  38.194440   61.92130   51.79398  39.062500   171.8750   67.70834   \n",
              "7  38.194443   59.60648   50.92593  39.351850   178.5301   68.57639   \n",
              "8  38.194440   57.87037   50.63657  39.351850   182.0023   69.44444   \n",
              "9  39.062500   56.42361   50.63657  39.062500   186.6319   69.73380   \n",
              "\n",
              "   sensor_50  sensor_51  machine_status  \n",
              "0   243.0556   201.3889          NORMAL  \n",
              "1   243.0556   201.3889          NORMAL  \n",
              "2   241.3194   203.7037          NORMAL  \n",
              "3   240.4514   203.1250          NORMAL  \n",
              "4   242.1875   201.3889          NORMAL  \n",
              "5   241.6088   201.6782          NORMAL  \n",
              "6   240.1620   200.2315          NORMAL  \n",
              "7   241.3194   201.0995          NORMAL  \n",
              "8   243.0556   201.6782          NORMAL  \n",
              "9   246.5278   200.8102          NORMAL  \n",
              "\n",
              "[10 rows x 55 columns]"
            ],
            "text/html": [
              "\n",
              "  <div id=\"df-5ec0a04d-6b7a-45ec-a8f2-fd7d257a5ff0\">\n",
              "    <div class=\"colab-df-container\">\n",
              "      <div>\n",
              "<style scoped>\n",
              "    .dataframe tbody tr th:only-of-type {\n",
              "        vertical-align: middle;\n",
              "    }\n",
              "\n",
              "    .dataframe tbody tr th {\n",
              "        vertical-align: top;\n",
              "    }\n",
              "\n",
              "    .dataframe thead th {\n",
              "        text-align: right;\n",
              "    }\n",
              "</style>\n",
              "<table border=\"1\" class=\"dataframe\">\n",
              "  <thead>\n",
              "    <tr style=\"text-align: right;\">\n",
              "      <th></th>\n",
              "      <th>Unnamed: 0</th>\n",
              "      <th>timestamp</th>\n",
              "      <th>sensor_00</th>\n",
              "      <th>sensor_01</th>\n",
              "      <th>sensor_02</th>\n",
              "      <th>sensor_03</th>\n",
              "      <th>sensor_04</th>\n",
              "      <th>sensor_05</th>\n",
              "      <th>sensor_06</th>\n",
              "      <th>sensor_07</th>\n",
              "      <th>...</th>\n",
              "      <th>sensor_43</th>\n",
              "      <th>sensor_44</th>\n",
              "      <th>sensor_45</th>\n",
              "      <th>sensor_46</th>\n",
              "      <th>sensor_47</th>\n",
              "      <th>sensor_48</th>\n",
              "      <th>sensor_49</th>\n",
              "      <th>sensor_50</th>\n",
              "      <th>sensor_51</th>\n",
              "      <th>machine_status</th>\n",
              "    </tr>\n",
              "  </thead>\n",
              "  <tbody>\n",
              "    <tr>\n",
              "      <th>0</th>\n",
              "      <td>0</td>\n",
              "      <td>2018-04-01 00:00:00</td>\n",
              "      <td>2.465394</td>\n",
              "      <td>47.09201</td>\n",
              "      <td>53.2118</td>\n",
              "      <td>46.310760</td>\n",
              "      <td>634.3750</td>\n",
              "      <td>76.45975</td>\n",
              "      <td>13.41146</td>\n",
              "      <td>16.13136</td>\n",
              "      <td>...</td>\n",
              "      <td>41.92708</td>\n",
              "      <td>39.641200</td>\n",
              "      <td>65.68287</td>\n",
              "      <td>50.92593</td>\n",
              "      <td>38.194440</td>\n",
              "      <td>157.9861</td>\n",
              "      <td>67.70834</td>\n",
              "      <td>243.0556</td>\n",
              "      <td>201.3889</td>\n",
              "      <td>NORMAL</td>\n",
              "    </tr>\n",
              "    <tr>\n",
              "      <th>1</th>\n",
              "      <td>1</td>\n",
              "      <td>2018-04-01 00:01:00</td>\n",
              "      <td>2.465394</td>\n",
              "      <td>47.09201</td>\n",
              "      <td>53.2118</td>\n",
              "      <td>46.310760</td>\n",
              "      <td>634.3750</td>\n",
              "      <td>76.45975</td>\n",
              "      <td>13.41146</td>\n",
              "      <td>16.13136</td>\n",
              "      <td>...</td>\n",
              "      <td>41.92708</td>\n",
              "      <td>39.641200</td>\n",
              "      <td>65.68287</td>\n",
              "      <td>50.92593</td>\n",
              "      <td>38.194440</td>\n",
              "      <td>157.9861</td>\n",
              "      <td>67.70834</td>\n",
              "      <td>243.0556</td>\n",
              "      <td>201.3889</td>\n",
              "      <td>NORMAL</td>\n",
              "    </tr>\n",
              "    <tr>\n",
              "      <th>2</th>\n",
              "      <td>2</td>\n",
              "      <td>2018-04-01 00:02:00</td>\n",
              "      <td>2.444734</td>\n",
              "      <td>47.35243</td>\n",
              "      <td>53.2118</td>\n",
              "      <td>46.397570</td>\n",
              "      <td>638.8889</td>\n",
              "      <td>73.54598</td>\n",
              "      <td>13.32465</td>\n",
              "      <td>16.03733</td>\n",
              "      <td>...</td>\n",
              "      <td>41.66666</td>\n",
              "      <td>39.351852</td>\n",
              "      <td>65.39352</td>\n",
              "      <td>51.21528</td>\n",
              "      <td>38.194443</td>\n",
              "      <td>155.9606</td>\n",
              "      <td>67.12963</td>\n",
              "      <td>241.3194</td>\n",
              "      <td>203.7037</td>\n",
              "      <td>NORMAL</td>\n",
              "    </tr>\n",
              "    <tr>\n",
              "      <th>3</th>\n",
              "      <td>3</td>\n",
              "      <td>2018-04-01 00:03:00</td>\n",
              "      <td>2.460474</td>\n",
              "      <td>47.09201</td>\n",
              "      <td>53.1684</td>\n",
              "      <td>46.397568</td>\n",
              "      <td>628.1250</td>\n",
              "      <td>76.98898</td>\n",
              "      <td>13.31742</td>\n",
              "      <td>16.24711</td>\n",
              "      <td>...</td>\n",
              "      <td>40.88541</td>\n",
              "      <td>39.062500</td>\n",
              "      <td>64.81481</td>\n",
              "      <td>51.21528</td>\n",
              "      <td>38.194440</td>\n",
              "      <td>155.9606</td>\n",
              "      <td>66.84028</td>\n",
              "      <td>240.4514</td>\n",
              "      <td>203.1250</td>\n",
              "      <td>NORMAL</td>\n",
              "    </tr>\n",
              "    <tr>\n",
              "      <th>4</th>\n",
              "      <td>4</td>\n",
              "      <td>2018-04-01 00:04:00</td>\n",
              "      <td>2.445718</td>\n",
              "      <td>47.13541</td>\n",
              "      <td>53.2118</td>\n",
              "      <td>46.397568</td>\n",
              "      <td>636.4583</td>\n",
              "      <td>76.58897</td>\n",
              "      <td>13.35359</td>\n",
              "      <td>16.21094</td>\n",
              "      <td>...</td>\n",
              "      <td>41.40625</td>\n",
              "      <td>38.773150</td>\n",
              "      <td>65.10416</td>\n",
              "      <td>51.79398</td>\n",
              "      <td>38.773150</td>\n",
              "      <td>158.2755</td>\n",
              "      <td>66.55093</td>\n",
              "      <td>242.1875</td>\n",
              "      <td>201.3889</td>\n",
              "      <td>NORMAL</td>\n",
              "    </tr>\n",
              "    <tr>\n",
              "      <th>5</th>\n",
              "      <td>5</td>\n",
              "      <td>2018-04-01 00:05:00</td>\n",
              "      <td>2.453588</td>\n",
              "      <td>47.09201</td>\n",
              "      <td>53.1684</td>\n",
              "      <td>46.397568</td>\n",
              "      <td>637.6157</td>\n",
              "      <td>78.18568</td>\n",
              "      <td>13.41146</td>\n",
              "      <td>16.16753</td>\n",
              "      <td>...</td>\n",
              "      <td>42.70833</td>\n",
              "      <td>38.773150</td>\n",
              "      <td>63.65741</td>\n",
              "      <td>51.79398</td>\n",
              "      <td>38.773150</td>\n",
              "      <td>164.6412</td>\n",
              "      <td>66.55093</td>\n",
              "      <td>241.6088</td>\n",
              "      <td>201.6782</td>\n",
              "      <td>NORMAL</td>\n",
              "    </tr>\n",
              "    <tr>\n",
              "      <th>6</th>\n",
              "      <td>6</td>\n",
              "      <td>2018-04-01 00:06:00</td>\n",
              "      <td>2.455556</td>\n",
              "      <td>47.04861</td>\n",
              "      <td>53.1684</td>\n",
              "      <td>46.397568</td>\n",
              "      <td>633.3333</td>\n",
              "      <td>75.81614</td>\n",
              "      <td>13.43316</td>\n",
              "      <td>16.13136</td>\n",
              "      <td>...</td>\n",
              "      <td>43.22916</td>\n",
              "      <td>38.194440</td>\n",
              "      <td>61.92130</td>\n",
              "      <td>51.79398</td>\n",
              "      <td>39.062500</td>\n",
              "      <td>171.8750</td>\n",
              "      <td>67.70834</td>\n",
              "      <td>240.1620</td>\n",
              "      <td>200.2315</td>\n",
              "      <td>NORMAL</td>\n",
              "    </tr>\n",
              "    <tr>\n",
              "      <th>7</th>\n",
              "      <td>7</td>\n",
              "      <td>2018-04-01 00:07:00</td>\n",
              "      <td>2.449653</td>\n",
              "      <td>47.13541</td>\n",
              "      <td>53.1684</td>\n",
              "      <td>46.397568</td>\n",
              "      <td>630.6713</td>\n",
              "      <td>75.77331</td>\n",
              "      <td>13.25231</td>\n",
              "      <td>16.12413</td>\n",
              "      <td>...</td>\n",
              "      <td>42.96875</td>\n",
              "      <td>38.194443</td>\n",
              "      <td>59.60648</td>\n",
              "      <td>50.92593</td>\n",
              "      <td>39.351850</td>\n",
              "      <td>178.5301</td>\n",
              "      <td>68.57639</td>\n",
              "      <td>241.3194</td>\n",
              "      <td>201.0995</td>\n",
              "      <td>NORMAL</td>\n",
              "    </tr>\n",
              "    <tr>\n",
              "      <th>8</th>\n",
              "      <td>8</td>\n",
              "      <td>2018-04-01 00:08:00</td>\n",
              "      <td>2.463426</td>\n",
              "      <td>47.09201</td>\n",
              "      <td>53.1684</td>\n",
              "      <td>46.397568</td>\n",
              "      <td>631.9444</td>\n",
              "      <td>74.58916</td>\n",
              "      <td>13.28848</td>\n",
              "      <td>16.13136</td>\n",
              "      <td>...</td>\n",
              "      <td>42.18750</td>\n",
              "      <td>38.194440</td>\n",
              "      <td>57.87037</td>\n",
              "      <td>50.63657</td>\n",
              "      <td>39.351850</td>\n",
              "      <td>182.0023</td>\n",
              "      <td>69.44444</td>\n",
              "      <td>243.0556</td>\n",
              "      <td>201.6782</td>\n",
              "      <td>NORMAL</td>\n",
              "    </tr>\n",
              "    <tr>\n",
              "      <th>9</th>\n",
              "      <td>9</td>\n",
              "      <td>2018-04-01 00:09:00</td>\n",
              "      <td>2.445718</td>\n",
              "      <td>47.17882</td>\n",
              "      <td>53.1684</td>\n",
              "      <td>46.397568</td>\n",
              "      <td>641.7823</td>\n",
              "      <td>74.57428</td>\n",
              "      <td>13.38252</td>\n",
              "      <td>16.24711</td>\n",
              "      <td>...</td>\n",
              "      <td>41.66666</td>\n",
              "      <td>39.062500</td>\n",
              "      <td>56.42361</td>\n",
              "      <td>50.63657</td>\n",
              "      <td>39.062500</td>\n",
              "      <td>186.6319</td>\n",
              "      <td>69.73380</td>\n",
              "      <td>246.5278</td>\n",
              "      <td>200.8102</td>\n",
              "      <td>NORMAL</td>\n",
              "    </tr>\n",
              "  </tbody>\n",
              "</table>\n",
              "<p>10 rows × 55 columns</p>\n",
              "</div>\n",
              "      <button class=\"colab-df-convert\" onclick=\"convertToInteractive('df-5ec0a04d-6b7a-45ec-a8f2-fd7d257a5ff0')\"\n",
              "              title=\"Convert this dataframe to an interactive table.\"\n",
              "              style=\"display:none;\">\n",
              "        \n",
              "  <svg xmlns=\"http://www.w3.org/2000/svg\" height=\"24px\"viewBox=\"0 0 24 24\"\n",
              "       width=\"24px\">\n",
              "    <path d=\"M0 0h24v24H0V0z\" fill=\"none\"/>\n",
              "    <path d=\"M18.56 5.44l.94 2.06.94-2.06 2.06-.94-2.06-.94-.94-2.06-.94 2.06-2.06.94zm-11 1L8.5 8.5l.94-2.06 2.06-.94-2.06-.94L8.5 2.5l-.94 2.06-2.06.94zm10 10l.94 2.06.94-2.06 2.06-.94-2.06-.94-.94-2.06-.94 2.06-2.06.94z\"/><path d=\"M17.41 7.96l-1.37-1.37c-.4-.4-.92-.59-1.43-.59-.52 0-1.04.2-1.43.59L10.3 9.45l-7.72 7.72c-.78.78-.78 2.05 0 2.83L4 21.41c.39.39.9.59 1.41.59.51 0 1.02-.2 1.41-.59l7.78-7.78 2.81-2.81c.8-.78.8-2.07 0-2.86zM5.41 20L4 18.59l7.72-7.72 1.47 1.35L5.41 20z\"/>\n",
              "  </svg>\n",
              "      </button>\n",
              "      \n",
              "  <style>\n",
              "    .colab-df-container {\n",
              "      display:flex;\n",
              "      flex-wrap:wrap;\n",
              "      gap: 12px;\n",
              "    }\n",
              "\n",
              "    .colab-df-convert {\n",
              "      background-color: #E8F0FE;\n",
              "      border: none;\n",
              "      border-radius: 50%;\n",
              "      cursor: pointer;\n",
              "      display: none;\n",
              "      fill: #1967D2;\n",
              "      height: 32px;\n",
              "      padding: 0 0 0 0;\n",
              "      width: 32px;\n",
              "    }\n",
              "\n",
              "    .colab-df-convert:hover {\n",
              "      background-color: #E2EBFA;\n",
              "      box-shadow: 0px 1px 2px rgba(60, 64, 67, 0.3), 0px 1px 3px 1px rgba(60, 64, 67, 0.15);\n",
              "      fill: #174EA6;\n",
              "    }\n",
              "\n",
              "    [theme=dark] .colab-df-convert {\n",
              "      background-color: #3B4455;\n",
              "      fill: #D2E3FC;\n",
              "    }\n",
              "\n",
              "    [theme=dark] .colab-df-convert:hover {\n",
              "      background-color: #434B5C;\n",
              "      box-shadow: 0px 1px 3px 1px rgba(0, 0, 0, 0.15);\n",
              "      filter: drop-shadow(0px 1px 2px rgba(0, 0, 0, 0.3));\n",
              "      fill: #FFFFFF;\n",
              "    }\n",
              "  </style>\n",
              "\n",
              "      <script>\n",
              "        const buttonEl =\n",
              "          document.querySelector('#df-5ec0a04d-6b7a-45ec-a8f2-fd7d257a5ff0 button.colab-df-convert');\n",
              "        buttonEl.style.display =\n",
              "          google.colab.kernel.accessAllowed ? 'block' : 'none';\n",
              "\n",
              "        async function convertToInteractive(key) {\n",
              "          const element = document.querySelector('#df-5ec0a04d-6b7a-45ec-a8f2-fd7d257a5ff0');\n",
              "          const dataTable =\n",
              "            await google.colab.kernel.invokeFunction('convertToInteractive',\n",
              "                                                     [key], {});\n",
              "          if (!dataTable) return;\n",
              "\n",
              "          const docLinkHtml = 'Like what you see? Visit the ' +\n",
              "            '<a target=\"_blank\" href=https://colab.research.google.com/notebooks/data_table.ipynb>data table notebook</a>'\n",
              "            + ' to learn more about interactive tables.';\n",
              "          element.innerHTML = '';\n",
              "          dataTable['output_type'] = 'display_data';\n",
              "          await google.colab.output.renderOutput(dataTable, element);\n",
              "          const docLink = document.createElement('div');\n",
              "          docLink.innerHTML = docLinkHtml;\n",
              "          element.appendChild(docLink);\n",
              "        }\n",
              "      </script>\n",
              "    </div>\n",
              "  </div>\n",
              "  "
            ]
          },
          "metadata": {},
          "execution_count": 5
        }
      ]
    },
    {
      "cell_type": "code",
      "source": [
        "# The first column has no name. Give it a name!\n",
        "df.rename(columns={ df.columns[0]: \"Samplenr\" }, inplace = True)"
      ],
      "metadata": {
        "id": "jZEBoSyeA-eo"
      },
      "execution_count": 6,
      "outputs": []
    },
    {
      "cell_type": "markdown",
      "source": [
        "##Data analysis"
      ],
      "metadata": {
        "id": "AvIrJLzL9Cwq"
      }
    },
    {
      "cell_type": "markdown",
      "source": [
        "###How much data do we have ?"
      ],
      "metadata": {
        "id": "0EjbZASz9ymg"
      }
    },
    {
      "cell_type": "code",
      "source": [
        "df.shape"
      ],
      "metadata": {
        "colab": {
          "base_uri": "https://localhost:8080/"
        },
        "id": "HayCPV5M9yIm",
        "outputId": "7085a039-360f-4c76-8e0e-c70f977a9e4d"
      },
      "execution_count": 7,
      "outputs": [
        {
          "output_type": "execute_result",
          "data": {
            "text/plain": [
              "(220320, 55)"
            ]
          },
          "metadata": {},
          "execution_count": 7
        }
      ]
    },
    {
      "cell_type": "markdown",
      "source": [
        "###How many different machine states are there?"
      ],
      "metadata": {
        "id": "H1_jiWT49dTF"
      }
    },
    {
      "cell_type": "code",
      "source": [
        "possible_machine_states = list(df.machine_status.unique())\n",
        "possible_machine_states"
      ],
      "metadata": {
        "colab": {
          "base_uri": "https://localhost:8080/"
        },
        "id": "6f9utruj9gAu",
        "outputId": "9fc69182-7f15-44cb-df40-5f6d8b7d232a"
      },
      "execution_count": 8,
      "outputs": [
        {
          "output_type": "execute_result",
          "data": {
            "text/plain": [
              "['NORMAL', 'BROKEN', 'RECOVERING']"
            ]
          },
          "metadata": {},
          "execution_count": 8
        }
      ]
    },
    {
      "cell_type": "markdown",
      "source": [
        "###How much of the data is \"NORMAL\" data ? "
      ],
      "metadata": {
        "id": "z_0LBDjH_Hds"
      }
    },
    {
      "cell_type": "code",
      "source": [
        "# Get all rows where machine status was \"NORMAL\"\n",
        "df_status_NORMAL = df[ df[\"machine_status\"] == \"NORMAL\" ]"
      ],
      "metadata": {
        "id": "kZE36TKG9mM0"
      },
      "execution_count": 9,
      "outputs": []
    },
    {
      "cell_type": "code",
      "source": [
        "nr_rows_machine_status_NORMAL = df_status_NORMAL.shape[0]"
      ],
      "metadata": {
        "id": "kpfsOeTM-TkK"
      },
      "execution_count": 10,
      "outputs": []
    },
    {
      "cell_type": "code",
      "source": [
        "nr_rows_total = df.shape[0]"
      ],
      "metadata": {
        "id": "rcy9Lxfy9vMY"
      },
      "execution_count": 11,
      "outputs": []
    },
    {
      "cell_type": "code",
      "source": [
        "percent_machine_status_NORMAL = \\\n",
        "    (nr_rows_machine_status_NORMAL / nr_rows_total) * 100.0\n",
        "\n",
        "print('The percentage of \"NORMAL\" data is: ', percent_machine_status_NORMAL)"
      ],
      "metadata": {
        "colab": {
          "base_uri": "https://localhost:8080/"
        },
        "id": "--RAs5Q6-FtN",
        "outputId": "8d28a0f5-9667-4f7c-b364-189205578ef9"
      },
      "execution_count": 12,
      "outputs": [
        {
          "output_type": "stream",
          "name": "stdout",
          "text": [
            "The percentage of \"NORMAL\" data is:  93.42592592592592\n"
          ]
        }
      ]
    },
    {
      "cell_type": "markdown",
      "source": [
        "###How many times was the machine broken?"
      ],
      "metadata": {
        "id": "tTQiEAtk-wVr"
      }
    },
    {
      "cell_type": "code",
      "source": [
        "# Get all rows where machine status was \"BROKEN\"\n",
        "df_status_BROKEN = df[ df[\"machine_status\"] == \"BROKEN\" ]\n",
        "df_status_BROKEN"
      ],
      "metadata": {
        "colab": {
          "base_uri": "https://localhost:8080/",
          "height": 605
        },
        "id": "WtA9wcU0-mHx",
        "outputId": "bb63bda1-7a9d-47f8-c7f7-f35823705239"
      },
      "execution_count": 13,
      "outputs": [
        {
          "output_type": "execute_result",
          "data": {
            "text/plain": [
              "        Samplenr            timestamp  sensor_00  sensor_01  sensor_02  \\\n",
              "17155      17155  2018-04-12 21:55:00   0.000000  53.342010  52.821180   \n",
              "24510      24510  2018-04-18 00:30:00   1.093982  42.534720  47.699650   \n",
              "69318      69318  2018-05-19 03:18:00   2.258796  47.265630  52.734370   \n",
              "77790      77790  2018-05-25 00:30:00   2.321759  47.482640  51.475693   \n",
              "128040    128040  2018-06-28 22:00:00   0.364005  40.190970  45.225690   \n",
              "141131    141131  2018-07-08 00:11:00   0.001968  45.138890  52.907990   \n",
              "166440    166440  2018-07-25 14:00:00   2.318808  45.833332  52.994790   \n",
              "\n",
              "        sensor_03   sensor_04  sensor_05  sensor_06  sensor_07  ...  \\\n",
              "17155   43.402775  202.526031   49.79289   3.219039  16.890910  ...   \n",
              "24510   41.449650  206.038757   60.30106  12.304690  15.154800  ...   \n",
              "69318   43.446178  200.115738   66.14643  13.592300  15.914350  ...   \n",
              "77790   42.795135  612.152800   67.30158  14.062500  16.608800  ...   \n",
              "128040  40.190971  201.368622    0.00000  11.335360  15.270540  ...   \n",
              "141131  45.355900  500.000000    1.40131   0.028935   0.036169  ...   \n",
              "166440  43.880210  420.503448   72.52040  14.185470  16.247110  ...   \n",
              "\n",
              "        sensor_43  sensor_44  sensor_45   sensor_46   sensor_47   sensor_48  \\\n",
              "17155    50.78125   50.92593  51.215280   50.636570   46.006940  409.143500   \n",
              "24510    42.70833   34.72222  31.539350   34.432870   33.275460   59.895830   \n",
              "69318    39.06250   35.01157  37.905090   39.062500   45.428240  144.675900   \n",
              "77790   202.34370   65.68287  57.870370  127.893500  153.935200  155.381900   \n",
              "128040   32.29166   28.06713  28.067129   29.513889   29.224537   29.224537   \n",
              "141131   36.19791   37.32639  35.300930   38.194440   43.402780   99.537030   \n",
              "166440   51.30208   52.10200  52.662040   67.129630   43.981480  230.324100   \n",
              "\n",
              "         sensor_49   sensor_50  sensor_51  machine_status  \n",
              "17155   121.527800  401.909700   324.6528          BROKEN  \n",
              "24510    44.560180  177.662000   183.7384          BROKEN  \n",
              "69318    49.768520  246.238400   257.5231          BROKEN  \n",
              "77790    65.682870  220.196800   267.3611          BROKEN  \n",
              "128040   29.513889   32.407406        NaN          BROKEN  \n",
              "141131   44.849540  192.129600   174.7685          BROKEN  \n",
              "166440   69.733800         NaN   205.7292          BROKEN  \n",
              "\n",
              "[7 rows x 55 columns]"
            ],
            "text/html": [
              "\n",
              "  <div id=\"df-71f52eb5-660a-4e08-9c7d-001e2dd60861\">\n",
              "    <div class=\"colab-df-container\">\n",
              "      <div>\n",
              "<style scoped>\n",
              "    .dataframe tbody tr th:only-of-type {\n",
              "        vertical-align: middle;\n",
              "    }\n",
              "\n",
              "    .dataframe tbody tr th {\n",
              "        vertical-align: top;\n",
              "    }\n",
              "\n",
              "    .dataframe thead th {\n",
              "        text-align: right;\n",
              "    }\n",
              "</style>\n",
              "<table border=\"1\" class=\"dataframe\">\n",
              "  <thead>\n",
              "    <tr style=\"text-align: right;\">\n",
              "      <th></th>\n",
              "      <th>Samplenr</th>\n",
              "      <th>timestamp</th>\n",
              "      <th>sensor_00</th>\n",
              "      <th>sensor_01</th>\n",
              "      <th>sensor_02</th>\n",
              "      <th>sensor_03</th>\n",
              "      <th>sensor_04</th>\n",
              "      <th>sensor_05</th>\n",
              "      <th>sensor_06</th>\n",
              "      <th>sensor_07</th>\n",
              "      <th>...</th>\n",
              "      <th>sensor_43</th>\n",
              "      <th>sensor_44</th>\n",
              "      <th>sensor_45</th>\n",
              "      <th>sensor_46</th>\n",
              "      <th>sensor_47</th>\n",
              "      <th>sensor_48</th>\n",
              "      <th>sensor_49</th>\n",
              "      <th>sensor_50</th>\n",
              "      <th>sensor_51</th>\n",
              "      <th>machine_status</th>\n",
              "    </tr>\n",
              "  </thead>\n",
              "  <tbody>\n",
              "    <tr>\n",
              "      <th>17155</th>\n",
              "      <td>17155</td>\n",
              "      <td>2018-04-12 21:55:00</td>\n",
              "      <td>0.000000</td>\n",
              "      <td>53.342010</td>\n",
              "      <td>52.821180</td>\n",
              "      <td>43.402775</td>\n",
              "      <td>202.526031</td>\n",
              "      <td>49.79289</td>\n",
              "      <td>3.219039</td>\n",
              "      <td>16.890910</td>\n",
              "      <td>...</td>\n",
              "      <td>50.78125</td>\n",
              "      <td>50.92593</td>\n",
              "      <td>51.215280</td>\n",
              "      <td>50.636570</td>\n",
              "      <td>46.006940</td>\n",
              "      <td>409.143500</td>\n",
              "      <td>121.527800</td>\n",
              "      <td>401.909700</td>\n",
              "      <td>324.6528</td>\n",
              "      <td>BROKEN</td>\n",
              "    </tr>\n",
              "    <tr>\n",
              "      <th>24510</th>\n",
              "      <td>24510</td>\n",
              "      <td>2018-04-18 00:30:00</td>\n",
              "      <td>1.093982</td>\n",
              "      <td>42.534720</td>\n",
              "      <td>47.699650</td>\n",
              "      <td>41.449650</td>\n",
              "      <td>206.038757</td>\n",
              "      <td>60.30106</td>\n",
              "      <td>12.304690</td>\n",
              "      <td>15.154800</td>\n",
              "      <td>...</td>\n",
              "      <td>42.70833</td>\n",
              "      <td>34.72222</td>\n",
              "      <td>31.539350</td>\n",
              "      <td>34.432870</td>\n",
              "      <td>33.275460</td>\n",
              "      <td>59.895830</td>\n",
              "      <td>44.560180</td>\n",
              "      <td>177.662000</td>\n",
              "      <td>183.7384</td>\n",
              "      <td>BROKEN</td>\n",
              "    </tr>\n",
              "    <tr>\n",
              "      <th>69318</th>\n",
              "      <td>69318</td>\n",
              "      <td>2018-05-19 03:18:00</td>\n",
              "      <td>2.258796</td>\n",
              "      <td>47.265630</td>\n",
              "      <td>52.734370</td>\n",
              "      <td>43.446178</td>\n",
              "      <td>200.115738</td>\n",
              "      <td>66.14643</td>\n",
              "      <td>13.592300</td>\n",
              "      <td>15.914350</td>\n",
              "      <td>...</td>\n",
              "      <td>39.06250</td>\n",
              "      <td>35.01157</td>\n",
              "      <td>37.905090</td>\n",
              "      <td>39.062500</td>\n",
              "      <td>45.428240</td>\n",
              "      <td>144.675900</td>\n",
              "      <td>49.768520</td>\n",
              "      <td>246.238400</td>\n",
              "      <td>257.5231</td>\n",
              "      <td>BROKEN</td>\n",
              "    </tr>\n",
              "    <tr>\n",
              "      <th>77790</th>\n",
              "      <td>77790</td>\n",
              "      <td>2018-05-25 00:30:00</td>\n",
              "      <td>2.321759</td>\n",
              "      <td>47.482640</td>\n",
              "      <td>51.475693</td>\n",
              "      <td>42.795135</td>\n",
              "      <td>612.152800</td>\n",
              "      <td>67.30158</td>\n",
              "      <td>14.062500</td>\n",
              "      <td>16.608800</td>\n",
              "      <td>...</td>\n",
              "      <td>202.34370</td>\n",
              "      <td>65.68287</td>\n",
              "      <td>57.870370</td>\n",
              "      <td>127.893500</td>\n",
              "      <td>153.935200</td>\n",
              "      <td>155.381900</td>\n",
              "      <td>65.682870</td>\n",
              "      <td>220.196800</td>\n",
              "      <td>267.3611</td>\n",
              "      <td>BROKEN</td>\n",
              "    </tr>\n",
              "    <tr>\n",
              "      <th>128040</th>\n",
              "      <td>128040</td>\n",
              "      <td>2018-06-28 22:00:00</td>\n",
              "      <td>0.364005</td>\n",
              "      <td>40.190970</td>\n",
              "      <td>45.225690</td>\n",
              "      <td>40.190971</td>\n",
              "      <td>201.368622</td>\n",
              "      <td>0.00000</td>\n",
              "      <td>11.335360</td>\n",
              "      <td>15.270540</td>\n",
              "      <td>...</td>\n",
              "      <td>32.29166</td>\n",
              "      <td>28.06713</td>\n",
              "      <td>28.067129</td>\n",
              "      <td>29.513889</td>\n",
              "      <td>29.224537</td>\n",
              "      <td>29.224537</td>\n",
              "      <td>29.513889</td>\n",
              "      <td>32.407406</td>\n",
              "      <td>NaN</td>\n",
              "      <td>BROKEN</td>\n",
              "    </tr>\n",
              "    <tr>\n",
              "      <th>141131</th>\n",
              "      <td>141131</td>\n",
              "      <td>2018-07-08 00:11:00</td>\n",
              "      <td>0.001968</td>\n",
              "      <td>45.138890</td>\n",
              "      <td>52.907990</td>\n",
              "      <td>45.355900</td>\n",
              "      <td>500.000000</td>\n",
              "      <td>1.40131</td>\n",
              "      <td>0.028935</td>\n",
              "      <td>0.036169</td>\n",
              "      <td>...</td>\n",
              "      <td>36.19791</td>\n",
              "      <td>37.32639</td>\n",
              "      <td>35.300930</td>\n",
              "      <td>38.194440</td>\n",
              "      <td>43.402780</td>\n",
              "      <td>99.537030</td>\n",
              "      <td>44.849540</td>\n",
              "      <td>192.129600</td>\n",
              "      <td>174.7685</td>\n",
              "      <td>BROKEN</td>\n",
              "    </tr>\n",
              "    <tr>\n",
              "      <th>166440</th>\n",
              "      <td>166440</td>\n",
              "      <td>2018-07-25 14:00:00</td>\n",
              "      <td>2.318808</td>\n",
              "      <td>45.833332</td>\n",
              "      <td>52.994790</td>\n",
              "      <td>43.880210</td>\n",
              "      <td>420.503448</td>\n",
              "      <td>72.52040</td>\n",
              "      <td>14.185470</td>\n",
              "      <td>16.247110</td>\n",
              "      <td>...</td>\n",
              "      <td>51.30208</td>\n",
              "      <td>52.10200</td>\n",
              "      <td>52.662040</td>\n",
              "      <td>67.129630</td>\n",
              "      <td>43.981480</td>\n",
              "      <td>230.324100</td>\n",
              "      <td>69.733800</td>\n",
              "      <td>NaN</td>\n",
              "      <td>205.7292</td>\n",
              "      <td>BROKEN</td>\n",
              "    </tr>\n",
              "  </tbody>\n",
              "</table>\n",
              "<p>7 rows × 55 columns</p>\n",
              "</div>\n",
              "      <button class=\"colab-df-convert\" onclick=\"convertToInteractive('df-71f52eb5-660a-4e08-9c7d-001e2dd60861')\"\n",
              "              title=\"Convert this dataframe to an interactive table.\"\n",
              "              style=\"display:none;\">\n",
              "        \n",
              "  <svg xmlns=\"http://www.w3.org/2000/svg\" height=\"24px\"viewBox=\"0 0 24 24\"\n",
              "       width=\"24px\">\n",
              "    <path d=\"M0 0h24v24H0V0z\" fill=\"none\"/>\n",
              "    <path d=\"M18.56 5.44l.94 2.06.94-2.06 2.06-.94-2.06-.94-.94-2.06-.94 2.06-2.06.94zm-11 1L8.5 8.5l.94-2.06 2.06-.94-2.06-.94L8.5 2.5l-.94 2.06-2.06.94zm10 10l.94 2.06.94-2.06 2.06-.94-2.06-.94-.94-2.06-.94 2.06-2.06.94z\"/><path d=\"M17.41 7.96l-1.37-1.37c-.4-.4-.92-.59-1.43-.59-.52 0-1.04.2-1.43.59L10.3 9.45l-7.72 7.72c-.78.78-.78 2.05 0 2.83L4 21.41c.39.39.9.59 1.41.59.51 0 1.02-.2 1.41-.59l7.78-7.78 2.81-2.81c.8-.78.8-2.07 0-2.86zM5.41 20L4 18.59l7.72-7.72 1.47 1.35L5.41 20z\"/>\n",
              "  </svg>\n",
              "      </button>\n",
              "      \n",
              "  <style>\n",
              "    .colab-df-container {\n",
              "      display:flex;\n",
              "      flex-wrap:wrap;\n",
              "      gap: 12px;\n",
              "    }\n",
              "\n",
              "    .colab-df-convert {\n",
              "      background-color: #E8F0FE;\n",
              "      border: none;\n",
              "      border-radius: 50%;\n",
              "      cursor: pointer;\n",
              "      display: none;\n",
              "      fill: #1967D2;\n",
              "      height: 32px;\n",
              "      padding: 0 0 0 0;\n",
              "      width: 32px;\n",
              "    }\n",
              "\n",
              "    .colab-df-convert:hover {\n",
              "      background-color: #E2EBFA;\n",
              "      box-shadow: 0px 1px 2px rgba(60, 64, 67, 0.3), 0px 1px 3px 1px rgba(60, 64, 67, 0.15);\n",
              "      fill: #174EA6;\n",
              "    }\n",
              "\n",
              "    [theme=dark] .colab-df-convert {\n",
              "      background-color: #3B4455;\n",
              "      fill: #D2E3FC;\n",
              "    }\n",
              "\n",
              "    [theme=dark] .colab-df-convert:hover {\n",
              "      background-color: #434B5C;\n",
              "      box-shadow: 0px 1px 3px 1px rgba(0, 0, 0, 0.15);\n",
              "      filter: drop-shadow(0px 1px 2px rgba(0, 0, 0, 0.3));\n",
              "      fill: #FFFFFF;\n",
              "    }\n",
              "  </style>\n",
              "\n",
              "      <script>\n",
              "        const buttonEl =\n",
              "          document.querySelector('#df-71f52eb5-660a-4e08-9c7d-001e2dd60861 button.colab-df-convert');\n",
              "        buttonEl.style.display =\n",
              "          google.colab.kernel.accessAllowed ? 'block' : 'none';\n",
              "\n",
              "        async function convertToInteractive(key) {\n",
              "          const element = document.querySelector('#df-71f52eb5-660a-4e08-9c7d-001e2dd60861');\n",
              "          const dataTable =\n",
              "            await google.colab.kernel.invokeFunction('convertToInteractive',\n",
              "                                                     [key], {});\n",
              "          if (!dataTable) return;\n",
              "\n",
              "          const docLinkHtml = 'Like what you see? Visit the ' +\n",
              "            '<a target=\"_blank\" href=https://colab.research.google.com/notebooks/data_table.ipynb>data table notebook</a>'\n",
              "            + ' to learn more about interactive tables.';\n",
              "          element.innerHTML = '';\n",
              "          dataTable['output_type'] = 'display_data';\n",
              "          await google.colab.output.renderOutput(dataTable, element);\n",
              "          const docLink = document.createElement('div');\n",
              "          docLink.innerHTML = docLinkHtml;\n",
              "          element.appendChild(docLink);\n",
              "        }\n",
              "      </script>\n",
              "    </div>\n",
              "  </div>\n",
              "  "
            ]
          },
          "metadata": {},
          "execution_count": 13
        }
      ]
    },
    {
      "cell_type": "code",
      "source": [
        "nr_rows_machine_status_BROKEN = df_status_BROKEN.shape[0]"
      ],
      "metadata": {
        "id": "q3M5Ahm6Abz5"
      },
      "execution_count": 14,
      "outputs": []
    },
    {
      "cell_type": "markdown",
      "source": [
        "**We can see from the data frame above that the machine was broken at 7 different instances.**"
      ],
      "metadata": {
        "id": "3tSpq37I_gJy"
      }
    },
    {
      "cell_type": "markdown",
      "source": [
        "###Let's visual the three states in a bar diagram"
      ],
      "metadata": {
        "id": "FjH6VqL8AIv6"
      }
    },
    {
      "cell_type": "code",
      "source": [
        "df_status_RECOVERING = df[ df[\"machine_status\"] == \"RECOVERING\" ]\n",
        "nr_rows_machine_status_RECOVERING = df_status_RECOVERING.shape[0]"
      ],
      "metadata": {
        "id": "xk-2qZLmAYP5"
      },
      "execution_count": 15,
      "outputs": []
    },
    {
      "cell_type": "code",
      "source": [
        "xpos = [1,2,3]\n",
        "data = [nr_rows_machine_status_NORMAL,\n",
        "        nr_rows_machine_status_BROKEN,\n",
        "        nr_rows_machine_status_RECOVERING]\n",
        "\n",
        "fig, ax = plt.subplots()\n",
        "ax.bar(xpos,data)\n",
        "ax.set_xticks(xpos)\n",
        "ax.set_xticklabels(possible_machine_states)\n",
        "ax.set_title(\"How often was the machine (pump) in each machine state?\")\n",
        "plt.show()"
      ],
      "metadata": {
        "colab": {
          "base_uri": "https://localhost:8080/",
          "height": 281
        },
        "id": "8NMfDaDOAOK7",
        "outputId": "c47182e8-d73c-4614-e248-3b1f81a8e24c"
      },
      "execution_count": 16,
      "outputs": [
        {
          "output_type": "display_data",
          "data": {
            "text/plain": [
              "<Figure size 432x288 with 1 Axes>"
            ],
            "image/png": "[encoded data removed]"
          },
          "metadata": {
            "needs_background": "light"
          }
        }
      ]
    },
    {
      "cell_type": "markdown",
      "source": [
        "###How long were the recovering phases? How long did it take to repair the machine?"
      ],
      "metadata": {
        "id": "Pk3ZUXjW9Rpe"
      }
    },
    {
      "cell_type": "code",
      "source": [
        "row_numbers_machine_BROKEN = list(df_status_BROKEN[\"Samplenr\"].values)\n",
        "row_numbers_machine_BROKEN"
      ],
      "metadata": {
        "colab": {
          "base_uri": "https://localhost:8080/"
        },
        "id": "yG5OxIne9E_q",
        "outputId": "224fb9af-9d24-4bee-dc4d-b20ae460ef99"
      },
      "execution_count": 17,
      "outputs": [
        {
          "output_type": "execute_result",
          "data": {
            "text/plain": [
              "[17155, 24510, 69318, 77790, 128040, 141131, 166440]"
            ]
          },
          "metadata": {},
          "execution_count": 17
        }
      ]
    },
    {
      "cell_type": "code",
      "source": [
        "recovering_times_hours = []\n",
        "\n",
        "for i in row_numbers_machine_BROKEN:\n",
        "    print(\"\\nMachine in status BROKEN in row: {0}\".format(i) )\n",
        "    \n",
        "    go_further = True\n",
        "    j = i\n",
        "    while go_further:\n",
        "        j += 1\n",
        "        machine_status_in_row_j = df.iloc[j][\"machine_status\"]        \n",
        "        if machine_status_in_row_j != \"RECOVERING\":\n",
        "            go_further = False\n",
        "            \n",
        "    print(\"Machine went back to status {0} in row: {1}\"\n",
        "          .format(machine_status_in_row_j, j-i)\n",
        "          )\n",
        "    recovering_hours = (j-i)/60\n",
        "    recovering_days  = recovering_hours / 24\n",
        "    print(\"Machine was in RECOVERING state for {0:.1f} hours / {1:.1f} days\"\n",
        "          .format( recovering_hours, recovering_days )\n",
        "         )\n",
        "    \n",
        "    recovering_times_hours.append(recovering_hours)"
      ],
      "metadata": {
        "colab": {
          "base_uri": "https://localhost:8080/"
        },
        "id": "zAjd1al7BPXF",
        "outputId": "9003ae8e-f30d-4ccc-965e-d0a2e22e984b"
      },
      "execution_count": 18,
      "outputs": [
        {
          "output_type": "stream",
          "name": "stdout",
          "text": [
            "\n",
            "Machine in status BROKEN in row: 17155\n",
            "Machine went back to status NORMAL in row: 945\n",
            "Machine was in RECOVERING state for 15.8 hours / 0.7 days\n",
            "\n",
            "Machine in status BROKEN in row: 24510\n",
            "Machine went back to status NORMAL in row: 3111\n",
            "Machine was in RECOVERING state for 51.9 hours / 2.2 days\n",
            "\n",
            "Machine in status BROKEN in row: 69318\n",
            "Machine went back to status NORMAL in row: 1313\n",
            "Machine was in RECOVERING state for 21.9 hours / 0.9 days\n",
            "\n",
            "Machine in status BROKEN in row: 77790\n",
            "Machine went back to status NORMAL in row: 606\n",
            "Machine was in RECOVERING state for 10.1 hours / 0.4 days\n",
            "\n",
            "Machine in status BROKEN in row: 128040\n",
            "Machine went back to status NORMAL in row: 8391\n",
            "Machine was in RECOVERING state for 139.8 hours / 5.8 days\n",
            "\n",
            "Machine in status BROKEN in row: 141131\n",
            "Machine went back to status NORMAL in row: 42\n",
            "Machine was in RECOVERING state for 0.7 hours / 0.0 days\n",
            "\n",
            "Machine in status BROKEN in row: 166440\n",
            "Machine went back to status NORMAL in row: 76\n",
            "Machine was in RECOVERING state for 1.3 hours / 0.1 days\n"
          ]
        }
      ]
    },
    {
      "cell_type": "code",
      "source": [
        "recovering_times_hours"
      ],
      "metadata": {
        "colab": {
          "base_uri": "https://localhost:8080/"
        },
        "id": "H942UIXKBgX7",
        "outputId": "2370fb03-a2c1-4fd2-c44e-8ba8d54db3a2"
      },
      "execution_count": 19,
      "outputs": [
        {
          "output_type": "execute_result",
          "data": {
            "text/plain": [
              "[15.75, 51.85, 21.883333333333333, 10.1, 139.85, 0.7, 1.2666666666666666]"
            ]
          },
          "metadata": {},
          "execution_count": 19
        }
      ]
    },
    {
      "cell_type": "code",
      "source": [
        "xpos = np.arange( len(recovering_times_hours) )\n",
        "\n",
        "fig, ax = plt.subplots()\n",
        "ax.bar(xpos,recovering_times_hours)\n",
        "ax.set_xticks(xpos)\n",
        "ax.set_xticklabels(xpos)\n",
        "ax.set_title(\"Duration of RECOVERING phase [in hours] for each of the 7 pump failures\")\n",
        "plt.show()"
      ],
      "metadata": {
        "colab": {
          "base_uri": "https://localhost:8080/",
          "height": 281
        },
        "id": "13R_tITIBoP3",
        "outputId": "4f318c78-c67a-4c01-c2c0-3094f0ecefff"
      },
      "execution_count": 20,
      "outputs": [
        {
          "output_type": "display_data",
          "data": {
            "text/plain": [
              "<Figure size 432x288 with 1 Axes>"
            ],
            "image/png": "[encoded data removed]"
          },
          "metadata": {
            "needs_background": "light"
          }
        }
      ]
    },
    {
      "cell_type": "markdown",
      "source": [
        "The quickest repair time"
      ],
      "metadata": {
        "id": "dpQHmK-VB1Xw"
      }
    },
    {
      "cell_type": "code",
      "source": [
        "min(recovering_times_hours)"
      ],
      "metadata": {
        "colab": {
          "base_uri": "https://localhost:8080/"
        },
        "id": "tszRswO0B3U4",
        "outputId": "cf2aa4b7-e581-4726-c227-353ea936b784"
      },
      "execution_count": 21,
      "outputs": [
        {
          "output_type": "execute_result",
          "data": {
            "text/plain": [
              "0.7"
            ]
          },
          "metadata": {},
          "execution_count": 21
        }
      ]
    },
    {
      "cell_type": "markdown",
      "source": [
        "The longest repair time"
      ],
      "metadata": {
        "id": "T79WGwguB382"
      }
    },
    {
      "cell_type": "code",
      "source": [
        "max(recovering_times_hours)"
      ],
      "metadata": {
        "id": "tca-HrgRB6FY",
        "outputId": "026dfc93-63ea-49b1-f519-e988ae3f95ca",
        "colab": {
          "base_uri": "https://localhost:8080/"
        }
      },
      "execution_count": 22,
      "outputs": [
        {
          "output_type": "execute_result",
          "data": {
            "text/plain": [
              "139.85"
            ]
          },
          "metadata": {},
          "execution_count": 22
        }
      ]
    }
  ]
}